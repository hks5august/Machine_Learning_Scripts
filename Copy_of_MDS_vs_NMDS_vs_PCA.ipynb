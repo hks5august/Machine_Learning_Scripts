{
  "nbformat": 4,
  "nbformat_minor": 0,
  "metadata": {
    "colab": {
      "name": "Copy of MDS vs NMDS vs PCA.ipynb",
      "provenance": []
    },
    "kernelspec": {
      "name": "python3",
      "display_name": "Python 3"
    },
    "language_info": {
      "name": "python"
    }
  },
  "cells": [
    {
      "cell_type": "markdown",
      "metadata": {
        "id": "2_tkMKOh1isB"
      },
      "source": [
        "# Ordination and Dimensionality Reduction\n",
        "Multidimensional scaling is an ordination method suited for 0-inflated data like microbiome OTU abundances that reveal proportionate abundance of taxonomic bacterial groups in a sample. To compare 3 methods, let's use the scikit MDS, NMDS and PCA analysis functions. We will then plot the outcome as a scatterplot annotated by sample type.\n",
        "\n",
        "**Here are some datasets to try:**\n",
        "\n",
        "Microbiome dataset 1: Gut microbiome from Chow (Normal) vs HFD (High Fat Diet) mice from the publication: https://www.ncbi.nlm.nih.gov/pmc/articles/PMC4297748/\n",
        "\n",
        "dataset 2: acne vs. perioral dermatitis vs. control skin microbiome: https://www.ncbi.nlm.nih.gov/bioproject/PRJNA636582\n",
        "\n",
        "File2:\n",
        "https://raw.githubusercontent.com/PineBiotech/omicslogic/master/skin_microbiome_Abundance_table_marked1.txt"
      ]
    },
    {
      "cell_type": "code",
      "metadata": {
        "id": "JtG6jsguYTJx"
      },
      "source": [
        "import numpy as np \n",
        "import matplotlib.pyplot as plt \n",
        "import pandas as pd \n",
        "\n",
        "#load data\n",
        "df = pd.read_table('https://raw.githubusercontent.com/PineBiotech/omicslogic/master/skin_microbiome_Abundance_table_marked1.txt',sep='\\t',header=(0)) "
      ],
      "execution_count": null,
      "outputs": []
    },
    {
      "cell_type": "code",
      "metadata": {
        "colab": {
          "base_uri": "https://localhost:8080/"
        },
        "id": "TVzTIZK-CpI1",
        "outputId": "de920ea9-aac2-4d5f-c999-393e4b97884a"
      },
      "source": [
        "df.shape\n",
        "\n",
        "df.describe"
      ],
      "execution_count": null,
      "outputs": [
        {
          "output_type": "execute_result",
          "data": {
            "text/plain": [
              "<bound method NDFrame.describe of             id SRR11961372 SRR11961374  ... SRR11961457 SRR11961458 SRR11961459\n",
              "0        Group        none  adult acne  ...        none        none        none\n",
              "1        OTU_1       11432      150251  ...        5306        3345        6662\n",
              "2        OTU_2           0       17275  ...           0           0           0\n",
              "3        OTU_3           0        1300  ...           0           0           0\n",
              "4        OTU_4        3823        6145  ...         335        2614        1640\n",
              "...        ...         ...         ...  ...         ...         ...         ...\n",
              "2356  OTU_2356           0           0  ...           0           0           0\n",
              "2357  OTU_2357           0           0  ...           0           0           0\n",
              "2358  OTU_2358           0           0  ...           0           0           0\n",
              "2359  OTU_2359           0           0  ...           0           0           0\n",
              "2360  OTU_2360           0           0  ...           1           0           0\n",
              "\n",
              "[2361 rows x 27 columns]>"
            ]
          },
          "metadata": {},
          "execution_count": 3
        }
      ]
    },
    {
      "cell_type": "code",
      "metadata": {
        "id": "mOdGvBqdYpQx"
      },
      "source": [
        "#set labels\n",
        "labels_list = df.loc[[0]] \n",
        "\n",
        "#Make a list of sample names\n",
        "sample_names = df.loc[0] \n",
        "sample_names = list(df)[1:] \n",
        "\n",
        "#Make unique list of labels\n",
        "labels = np.unique(labels_list) \n",
        "\n",
        "#delete \"Group\" label \n",
        "labels = np.delete(labels, np.where(labels == 'Group')) \n",
        "\n",
        "#Remove row \"Group\" at index 0 from data\n",
        "data=df.drop([0]) \n",
        "\n",
        "#Remove id from axis\n",
        "data=data.drop(['id'], axis=1) \n",
        "data = data.transpose() \n",
        "\n",
        "#Get list of all labels\n",
        "flabels = labels_list.loc[0,:].values[1:] "
      ],
      "execution_count": null,
      "outputs": []
    },
    {
      "cell_type": "code",
      "metadata": {
        "colab": {
          "base_uri": "https://localhost:8080/"
        },
        "id": "ee_4HzJHDcnI",
        "outputId": "e414e6f8-e417-499e-9b14-27d321664bc8"
      },
      "source": [
        "labels"
      ],
      "execution_count": null,
      "outputs": [
        {
          "output_type": "execute_result",
          "data": {
            "text/plain": [
              "array(['adult acne', 'none', 'perioral dermatitis'], dtype=object)"
            ]
          },
          "metadata": {},
          "execution_count": 5
        }
      ]
    },
    {
      "cell_type": "code",
      "metadata": {
        "id": "o0ZcXDXpbACy"
      },
      "source": [
        "#scale data\n",
        "from sklearn.preprocessing import StandardScaler \n",
        "from sklearn import manifold\n",
        "\n",
        "scaled = StandardScaler() \n",
        "scaled.fit(data) \n",
        "scaled_data = scaled.transform(data) \n",
        "\n",
        "#import libraries for ploting and scaling\n",
        "import matplotlib.pyplot as plt\n",
        "from sklearn.manifold import MDS\n",
        "\n",
        "#MDS\n",
        "mds = MDS(2,random_state=0)\n",
        "XMDS = mds.fit_transform(scaled_data)\n",
        "\n",
        "#NMDS\n",
        "nmds = manifold.MDS(n_components=2, random_state=0, metric=False, max_iter=3000)\n",
        "XNMDS = nmds.fit_transform(scaled_data)"
      ],
      "execution_count": null,
      "outputs": []
    },
    {
      "cell_type": "code",
      "metadata": {
        "colab": {
          "base_uri": "https://localhost:8080/",
          "height": 621
        },
        "id": "dzWoxn8RbKWw",
        "outputId": "395eb670-5c68-4821-9b7e-f34b66a0bc18"
      },
      "source": [
        "# plot MDS\n",
        "\n",
        "MDS1 = 0 \n",
        "MDS2 = 1 \n",
        "\n",
        "plt.figure(figsize=(10, 10))\n",
        "\n",
        "for i in range(0, XMDS.shape[0]): \n",
        "  if flabels[i] == 'perioral dermatitis': \n",
        "    c1 = plt.scatter(XMDS[i,MDS1],XMDS[i,MDS2], c='r', marker='+') \n",
        "#    plt.text(XMDS[i,MDS1],XMDS[i,MDS2], sample_names[i]) \n",
        "  elif flabels[i] == 'adult acne': \n",
        "    c2 = plt.scatter(XMDS[i,MDS1],XMDS[i,MDS2], c='g', marker='o') \n",
        "#    plt.text(XMDS[i,MDS1],XMDS[i,MDS2], sample_names[i]) \n",
        "  elif flabels[i] == 'none': \n",
        "    c3 = plt.scatter(XMDS[i,MDS1],XMDS[i,MDS2], c='b', marker='x') \n",
        "#    plt.text(XMDS[i,MDS1],XMDS[i,MDS2], sample_names[i]) \n",
        "\n",
        "#Add labels to MDS scatterplot:\n",
        "plt.legend([c1, c2, c3],['perioral dermatitis', 'adult acne', 'none']) \n",
        "\n",
        "plt.xlabel('MDS1') \n",
        "plt.ylabel('MDS2') \n",
        "plt.title('MDS')\n",
        "plt.show() "
      ],
      "execution_count": null,
      "outputs": [
        {
          "output_type": "display_data",
          "data": {
            "image/png": "[encoded data removed]",
            "text/plain": [
              "<Figure size 720x720 with 1 Axes>"
            ]
          },
          "metadata": {
            "needs_background": "light"
          }
        }
      ]
    },
    {
      "cell_type": "code",
      "metadata": {
        "colab": {
          "base_uri": "https://localhost:8080/",
          "height": 621
        },
        "id": "aQgpCniv82UK",
        "outputId": "f3dde6f1-0d3d-45e7-ca1f-0c9cebfb3abb"
      },
      "source": [
        "#NMDS\n",
        "NMDS1 = 0 \n",
        "NMDS2 = 1 \n",
        "\n",
        "plt.figure(figsize=(10, 10))\n",
        "\n",
        "for i in range(0, XNMDS.shape[0]): \n",
        "  if flabels[i] == 'perioral dermatitis': \n",
        "    c1 = plt.scatter(XNMDS[i,NMDS1],XNMDS[i,NMDS2], c='r', marker='+') \n",
        "#    plt.text(XNMDS[i,NMDS1],XNMDS[i,NMDS2], sample_names[i]) \n",
        "  elif flabels[i] == 'adult acne': \n",
        "    c2 = plt.scatter(XNMDS[i,NMDS1],XNMDS[i,NMDS2], c='g', marker='o') \n",
        "#    plt.text(XNMDS[i,NMDS1],XNMDS[i,NMDS2], sample_names[i]) \n",
        "  elif flabels[i] == 'none': \n",
        "    c3 = plt.scatter(XNMDS[i,NMDS1],XNMDS[i,NMDS2], c='b', marker='x') \n",
        "#    plt.text(XNMDS[i,NMDS1],XNMDS[i,NMDS2], sample_names[i]) \n",
        "\n",
        "#Add labels to PCA scatterplot:\n",
        "plt.legend([c1, c2, c3],['perioral dermatitis', 'adult acne', 'none']) \n",
        "plt.xlabel('NMDS1') \n",
        "plt.ylabel('NMDS2') \n",
        "plt.title('NMDS')\n",
        "plt.show() "
      ],
      "execution_count": null,
      "outputs": [
        {
          "output_type": "display_data",
          "data": {
            "image/png": "[encoded data removed]",
            "text/plain": [
              "<Figure size 720x720 with 1 Axes>"
            ]
          },
          "metadata": {
            "needs_background": "light"
          }
        }
      ]
    },
    {
      "cell_type": "code",
      "metadata": {
        "colab": {
          "base_uri": "https://localhost:8080/",
          "height": 621
        },
        "id": "VYxwkztM60k3",
        "outputId": "4c3d7430-4235-413d-ba88-256e4070aa30"
      },
      "source": [
        "#Run Principal Component Analysis\n",
        "from sklearn.decomposition import PCA \n",
        "\n",
        "pca = PCA(n_components=2) \n",
        "pca.fit(scaled_data) \n",
        "xpca = pca.transform(scaled_data)\n",
        "\n",
        "PC1 = 0 \n",
        "PC2 = 1 \n",
        "\n",
        "plt.figure(figsize=(10, 10))\n",
        "\n",
        "for i in range(0, xpca.shape[0]): \n",
        "  if flabels[i] == 'perioral dermatitis': \n",
        "    c1 = plt.scatter(xpca[i,PC1],xpca[i,PC2], c='r', marker='+') \n",
        "#    plt.text(xpca[i,PC1],xpca[i,PC2], sample_names[i]) \n",
        "  elif flabels[i] == 'adult acne': \n",
        "    c2 = plt.scatter(xpca[i,PC1],xpca[i,PC2], c='g', marker='o') \n",
        "#    plt.text(xpca[i,PC1],xpca[i,PC2], sample_names[i]) \n",
        "  elif flabels[i] == 'none': \n",
        "    c3 = plt.scatter(xpca[i,PC1],xpca[i,PC2], c='b', marker='*') \n",
        "#    plt.text(xpca[i,PC1],xpca[i,PC2], sample_names[i]) \n",
        "\n",
        "#Add labels to PCA scatterplot:\n",
        "plt.legend([c1, c2, c3],['perioral dermatitis', 'adult acne', 'none']) \n",
        "plt.xlabel(f'PC1 {round(pca.explained_variance_ratio_[0],2)*100}%') \n",
        "plt.ylabel(f'PC2 {round(pca.explained_variance_ratio_[1],2)*100}%') \n",
        "plt.title('PCA')\n",
        "plt.show() "
      ],
      "execution_count": null,
      "outputs": [
        {
          "output_type": "display_data",
          "data": {
            "image/png": "[encoded data removed]",
            "text/plain": [
              "<Figure size 720x720 with 1 Axes>"
            ]
          },
          "metadata": {
            "needs_background": "light"
          }
        }
      ]
    },
    {
      "cell_type": "code",
      "metadata": {
        "id": "Va_26AVREqZK"
      },
      "source": [
        ""
      ],
      "execution_count": null,
      "outputs": []
    },
    {
      "cell_type": "markdown",
      "metadata": {
        "id": "QdDMI3uYxuGv"
      },
      "source": [
        "Assignment:\n",
        "\n",
        "compare PCA with and without scaling to tSNE and MDS using 2 datasets - a low dimensional one and a high dimensional one\n",
        "\n",
        "tSNE notebook: https://colab.research.google.com/drive/1QBLoCrMVoAWuNb5fXOLRrEGDIO096w6r?usp=sharing\n",
        "\n",
        "\n"
      ]
    }
  ]
}